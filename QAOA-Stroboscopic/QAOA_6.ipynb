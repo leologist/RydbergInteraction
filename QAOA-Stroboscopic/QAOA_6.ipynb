{
 "cells": [
  {
   "cell_type": "code",
   "execution_count": 193,
   "metadata": {
    "collapsed": true
   },
   "outputs": [],
   "source": [
    "import networkx as nx\n",
    "from networkx.algorithms import approximation\n",
    "import numpy as np \n",
    "import copy\n",
    "from scipy import linalg\n",
    "from scipy.optimize import minimize\n",
    "import scipy\n",
    "from multiprocessing import Pool"
   ]
  },
  {
   "cell_type": "code",
   "execution_count": 194,
   "metadata": {},
   "outputs": [],
   "source": [
    "def make_elist(N):\n",
    "    elist = []\n",
    "    for i in range(N-1):\n",
    "        for j in range(i+1, N):\n",
    "            elist.append((i, j))\n",
    "    elist.pop(-1)\n",
    "    return elist"
   ]
  },
  {
   "cell_type": "code",
   "execution_count": 195,
   "metadata": {
    "collapsed": true
   },
   "outputs": [],
   "source": [
    "def ansatz(params, sigma_x, n, half, len_InS, atomwise):\n",
    "        gammas = params[:half]\n",
    "        betas = params[half:]\n",
    "        state = np.zeros(len_InS)\n",
    "        state[0] = 1\n",
    "        if atomwise: \n",
    "            for p in range(len(gammas)):\n",
    "                for i in range(len(sigma_x)):\n",
    "                    state = scipy.sparse.linalg.expm_multiply(-1j*(gammas[p]*sigma_x[i]+betas[p]*n[i]), state)\n",
    "        else:\n",
    "            for p in range(len(gammas)):\n",
    "                for i in range(len(sigma_x)):\n",
    "                    state = scipy.sparse.linalg.expm_multiply(-1j*gammas[p]*sigma_x[i], state)\n",
    "                for i in range(len(sigma_x)):\n",
    "                    state = scipy.sparse.linalg.expm_multiply(-1j*betas[p]*n[i], state)\n",
    "        return -np.real(np.dot(np.conjugate(state), sum(n)*state))"
   ]
  },
  {
   "cell_type": "code",
   "execution_count": 201,
   "metadata": {},
   "outputs": [],
   "source": [
    "def QAOA(X): \n",
    "    p, N = X\n",
    "    G = nx.Graph(make_elist(N))\n",
    "    GC = nx.algorithms.operators.complement(G)\n",
    "    InS = [np.zeros(N)]\n",
    "    for clique in nx.algorithms.clique.enumerate_all_cliques(GC): \n",
    "        new_InS = np.zeros(N)\n",
    "        for node in clique: \n",
    "            new_InS[node] = 1\n",
    "        InS.append(new_InS)\n",
    "    InS = np.array(InS)\n",
    "    len_InS = len(InS)\n",
    "    MIS_N = np.max(np.sum(InS, axis=1))\n",
    "    sigma_x = np.zeros((N, len_InS, len_InS))\n",
    "    n = np.zeros((N, len_InS, len_InS))\n",
    "    for i in range(N):\n",
    "        for j in range(len_InS):\n",
    "            n[i][j][j] = InS[j][i]\n",
    "    n = [scipy.sparse.csr_matrix(i) for i in n]\n",
    "    for i in range(N):\n",
    "        for j in range(len_InS):\n",
    "            tolookfor = copy.deepcopy(InS[j])\n",
    "            tolookfor[i] = abs(tolookfor[i]-1)\n",
    "            k = np.where((InS == tolookfor).all(axis=1))[0]\n",
    "            if k.size>0:\n",
    "                sigma_x[i][j][k[0]] = 1\n",
    "    sigma_x = [scipy.sparse.csr_matrix(i) for i in sigma_x]\n",
    "    half = int(p)\n",
    "    bounds = np.array([(-np.pi, np.pi) for _ in range(2*p)])\n",
    "    best_atom = (0, None)\n",
    "    best = (0, None)\n",
    "    for _ in range(10):\n",
    "        p0 = np.random.uniform(-np.pi, np.pi, 2*p)\n",
    "        atomwise = 1\n",
    "        result_atom = minimize(ansatz, p0, args=(sigma_x, n, half, len_InS, atomwise), bounds=bounds, method=\"L-BFGS-B\")\n",
    "        atomwise = 0\n",
    "        result = minimize(ansatz, p0, args=(sigma_x, n, half, len_InS, atomwise), bounds=bounds, method=\"L-BFGS-B\")\n",
    "        if -result_atom['fun']/MIS_N > best_atom[0]:\n",
    "            best_atom = (-result_atom['fun']/MIS_N, result_atom['x'])\n",
    "        if -result['fun']/MIS_N > best[0]:\n",
    "            best = (-result['fun']/MIS_N, result['x'])\n",
    "    print(N, p, best_atom, best)"
   ]
  },
  {
   "cell_type": "code",
   "execution_count": 202,
   "metadata": {
    "scrolled": true
   },
   "outputs": [
    {
     "name": "stdout",
     "output_type": "stream",
     "text": [
      "1 3 (0.5624999999999996, array([-1.61818743, -1.63816893])) (0.5624999999999996, array([ 2.09439513, -1.00490027]))\n",
      "1 4 (0.5185185185185179, array([ 0.95536913, -0.0288949 ])) (0.5185185185185184, array([ 0.9553166 , -0.01828731]))\n",
      "2 4 (0.8432258905328728, array([ 1.95902111, -0.99459248,  2.6962079 ,  0.57421919])) (0.9084236169837637, array([ 2.51482992, -2.13268251,  3.14159265,  0.53135167]))\n"
     ]
    },
    {
     "data": {
      "text/plain": [
       "[None, None, None]"
      ]
     },
     "execution_count": 202,
     "metadata": {},
     "output_type": "execute_result"
    }
   ],
   "source": [
    "toloop = []\n",
    "for N in range(3, 5):\n",
    "    for p in range(1, N-1):\n",
    "        toloop.append((p, N))\n",
    "pool = Pool(processes=63)\n",
    "pool.map(QAOA, toloop)"
   ]
  },
  {
   "cell_type": "code",
   "execution_count": null,
   "metadata": {},
   "outputs": [],
   "source": [
    "for N in range(10, 12, 2):\n",
    "    p=0\n",
    "    accuracy = [0.0]\n",
    "    while abs(accuracy[0]-1.0)>1e-2:\n",
    "        p+=1\n",
    "        for _ in range(100):\n",
    "            accuracy = parallel(p, N)\n",
    "            if(accuracy[0]!=1.0):\n",
    "                print(N, p, parallel2(p, N))"
   ]
  },
  {
   "cell_type": "code",
   "execution_count": null,
   "metadata": {},
   "outputs": [],
   "source": [
    "for p in range(6, 10): \n",
    "    X = parallel(p)\n",
    "    accuracy = []\n",
    "    optimizationtime = []\n",
    "    print(p, X[0], X[1], X[2])"
   ]
  },
  {
   "cell_type": "code",
   "execution_count": null,
   "metadata": {
    "collapsed": true
   },
   "outputs": [],
   "source": [
    "def parallel2(num_p, N): \n",
    "    G = nx.random_regular_graph(3, N)\n",
    "    GC = nx.algorithms.operators.complement(G)\n",
    "    InS = [np.zeros(N)]\n",
    "    for clique in nx.algorithms.clique.enumerate_all_cliques(GC): \n",
    "        toappend = np.zeros(N)\n",
    "        for node in clique: \n",
    "            toappend[node] = 1\n",
    "        InS.append(toappend)\n",
    "    InS = np.array(InS)\n",
    "    MIS_N = np.max(np.sum(InS, axis=1))\n",
    "    sigma_x = np.zeros((N, len(InS), len(InS)))\n",
    "    n = np.zeros((N, len(InS), len(InS)))\n",
    "    for i in range(N):\n",
    "        for j in range(len(InS)):\n",
    "            n[i][j][j] = InS[j][i]\n",
    "    for i in range(N):\n",
    "        for j in range(len(InS)):\n",
    "            tolookfor = copy.deepcopy(InS[j])\n",
    "            tolookfor[i] = abs(tolookfor[i]-1)\n",
    "            k = np.where((InS == tolookfor).all(axis=1))[0]\n",
    "            if k.size>0:\n",
    "                sigma_x[i][j][k[0]] = 1\n",
    "    def ansatz(params):\n",
    "        half = int(len(params)/2)\n",
    "        gammas = params[:half]\n",
    "        betas = params[half:]\n",
    "        state = np.zeros((len(InS),1))\n",
    "        state[0] = 1\n",
    "        for p in range(len(gammas)):\n",
    "            for i in range(N):\n",
    "                state = np.matmul(linalg.expm(-1j*gammas[p]*sigma_x[i]), state)\n",
    "            for i in range(N):\n",
    "                state = np.matmul(linalg.expm(1j*betas[p]*n[i]), state)\n",
    "        return state\n",
    "    def print_state(state):\n",
    "        print(state)\n",
    "    def ansatz_print(params):\n",
    "        half = int(len(params)/2)\n",
    "        gammas = params[:half]\n",
    "        betas = params[half:]\n",
    "        state = np.zeros((len(InS),1))\n",
    "        state[0] = 1\n",
    "        #print_state(state)\n",
    "        for p in range(len(gammas)):\n",
    "            for i in range(N):\n",
    "                state = np.matmul(linalg.expm(-1j*gammas[p]*sigma_x[i]), state)\n",
    "                #print_state(state)\n",
    "            for i in range(N):\n",
    "                state = np.matmul(linalg.expm(1j*betas[p]*n[i]), state)\n",
    "                #print_state(state)\n",
    "        return state\n",
    "    def obj_function(state):\n",
    "        return np.matmul(state.conjugate().transpose(), np.matmul(sum(n), state))\n",
    "    def func(params):\n",
    "        return -np.real(obj_function(ansatz(params))[0])[0]\n",
    "    final_params = None\n",
    "    final_val = 10000\n",
    "    for just in range(100):\n",
    "        result = minimize(func, [np.random.uniform(0, np.pi/2.0) for _ in range(2*num_p)],  bounds = [(0, np.pi/2.0) for _ in range(2*num_p)], method=\"L-BFGS-B\", options={'maxiter': 1e4})\n",
    "        if result['success']==0:\n",
    "            print(\"NO\")\n",
    "        if result['fun'] < final_val:\n",
    "            final_params = result['x']\n",
    "            final_val = result['fun']\n",
    "        solution = ansatz_print(result['x'])\n",
    "        prob = [np.abs(comple)**2.0 for comple in solution]\n",
    "        accuracy= 0\n",
    "        for ind in range(len(InS)):\n",
    "            if sum(InS[ind])==MIS_N:\n",
    "                accuracy+= prob[ind]\n",
    "        print(int(just/100.0*100), end='\\r')\n",
    "    solution = ansatz_print(final_params)\n",
    "    prob = [np.abs(comple)**2.0 for comple in solution]\n",
    "    accuracy= 0\n",
    "    for ind in range(len(InS)):\n",
    "        if sum(InS[ind])==MIS_N:\n",
    "            accuracy+= prob[ind]\n",
    "    return accuracy, final_params\n",
    "\n",
    "    "
   ]
  },
  {
   "cell_type": "code",
   "execution_count": null,
   "metadata": {
    "collapsed": true
   },
   "outputs": [],
   "source": []
  }
 ],
 "metadata": {
  "kernelspec": {
   "display_name": "Python 3",
   "language": "python",
   "name": "python3"
  },
  "language_info": {
   "codemirror_mode": {
    "name": "ipython",
    "version": 3
   },
   "file_extension": ".py",
   "mimetype": "text/x-python",
   "name": "python",
   "nbconvert_exporter": "python",
   "pygments_lexer": "ipython3",
   "version": "3.7.0"
  }
 },
 "nbformat": 4,
 "nbformat_minor": 2
}
