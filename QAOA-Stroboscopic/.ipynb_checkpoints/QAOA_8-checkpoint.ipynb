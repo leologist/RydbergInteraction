{
 "cells": [
  {
   "cell_type": "code",
   "execution_count": 1,
   "metadata": {},
   "outputs": [],
   "source": [
    "import networkx as nx\n",
    "from networkx.algorithms import approximation\n",
    "import numpy as np \n",
    "import copy\n",
    "from scipy import linalg\n",
    "from scipy.optimize import minimize\n",
    "from multiprocessing import Pool\n",
    "import os"
   ]
  },
  {
   "cell_type": "code",
   "execution_count": null,
   "metadata": {},
   "outputs": [],
   "source": [
    "def parallel(num_p):    \n",
    "    G = nx.random_regular_graph(3, N, np.random.randint(100))\n",
    "    GC = nx.algorithms.operators.complement(G)\n",
    "    InS = [np.zeros(N)]\n",
    "    for clique in nx.algorithms.clique.enumerate_all_cliques(GC): \n",
    "        toappend = np.zeros(N)\n",
    "        for node in clique: \n",
    "            toappend[node] = 1\n",
    "        InS.append(toappend)\n",
    "    InS = np.array(InS)\n",
    "    MIS_N = np.max(np.sum(InS, axis=1))\n",
    "    sigma_x = np.zeros((N, len(InS), len(InS)))\n",
    "    n = np.zeros((N, len(InS), len(InS)))\n",
    "    for i in range(N):\n",
    "        for j in range(len(InS)):\n",
    "            n[i][j][j] = InS[j][i]\n",
    "    for i in range(N):\n",
    "        for j in range(len(InS)):\n",
    "            tolookfor = copy.deepcopy(InS[j])\n",
    "            tolookfor[i] = abs(tolookfor[i]-1)\n",
    "            k = np.where((InS == tolookfor).all(axis=1))[0]\n",
    "            if k.size>0:\n",
    "                sigma_x[i][j][k[0]] = 1\n",
    "    def ansatz(params):\n",
    "        half = int(len(params)/2)\n",
    "        gammas = params[:half]\n",
    "        betas = params[half:]\n",
    "        state = np.zeros((len(InS),1))\n",
    "        state[0] = 1\n",
    "        for p in range(len(gammas)):\n",
    "            for i in range(N):\n",
    "                state = np.matmul(linalg.expm(-1j*gammas[p]*sigma_x[i]), state)\n",
    "            for i in range(N):\n",
    "                state = np.matmul(linalg.expm(1j*betas[p]*n[i]), state)\n",
    "        return state\n",
    "    def obj_function(state):\n",
    "        return np.matmul(state.conjugate().transpose(), np.matmul(sum(n), state))\n",
    "    def func(params):\n",
    "        return -np.real(obj_function(ansatz(params))[0])[0]\n",
    "    result = minimize(func, [0.5] * 2 * num_p, method='Nelder-Mead', options = {\"maxiter\":10000})\n",
    "    if result['success']==0:\n",
    "        print(\"NO\")\n",
    "    final_params = result['x']\n",
    "    solution = ansatz(final_params)\n",
    "    foundR = (np.real(obj_function(solution)[0])[0])/MIS_N\n",
    "    if foundR > 1:\n",
    "        foundR = 1\n",
    "    return 1 - foundR, result['nfev']"
   ]
  },
  {
   "cell_type": "code",
   "execution_count": null,
   "metadata": {},
   "outputs": [
    {
     "name": "stdout",
     "output_type": "stream",
     "text": [
      "1 6 0.0 0.0 87.24 11.738074799557209\n",
      "2 6 6.560356702323134e-12 1.495318518049254e-11 245.52 109.41996892706558\n",
      "3 6 1.6290537363516932e-10 3.73103450794232e-10 516.6 134.45207324545055\n"
     ]
    }
   ],
   "source": [
    "for p in range(1, 5): \n",
    "    for N in range(6, 7, 2):\n",
    "        pool = Pool(os.cpu_count())\n",
    "        X = pool.map(parallel, [p for _ in range(25)])\n",
    "        accuracy = [x[0] for x in X]\n",
    "        optimizationtime = [x[1] for x in X]\n",
    "        print(p, N, np.mean(accuracy), np.std(accuracy), np.mean(optimizationtime), np.std(optimizationtime))"
   ]
  },
  {
   "cell_type": "code",
   "execution_count": null,
   "metadata": {
    "collapsed": true
   },
   "outputs": [],
   "source": []
  }
 ],
 "metadata": {
  "kernelspec": {
   "display_name": "Python 3",
   "language": "python",
   "name": "python3"
  },
  "language_info": {
   "codemirror_mode": {
    "name": "ipython",
    "version": 3
   },
   "file_extension": ".py",
   "mimetype": "text/x-python",
   "name": "python",
   "nbconvert_exporter": "python",
   "pygments_lexer": "ipython3",
   "version": "3.7.0"
  }
 },
 "nbformat": 4,
 "nbformat_minor": 2
}
